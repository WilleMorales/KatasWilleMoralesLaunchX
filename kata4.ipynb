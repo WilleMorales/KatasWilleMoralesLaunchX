{
 "cells": [
  {
   "cell_type": "markdown",
   "metadata": {},
   "source": [
    "#Ejecicio 1\n",
    "Primero, divide el texto en cada oración para trabajar con su contenido:\n",
    "Ahora, define algunas palabras clave para búsqueda que te ayudarán a determinar si una oración contiene un hecho.\n",
    "Cre un bucle para imprimir solo datos sobre la Luna que estén relacionados con las palabras clave definidas anteriormente:\n",
    "Finalmente, actualiza el bucle(ciclo) para cambiar C a Celsius:"
   ]
  },
  {
   "cell_type": "code",
   "execution_count": 37,
   "metadata": {},
   "outputs": [
    {
     "name": "stdout",
     "output_type": "stream",
     "text": [
      "Interesting facts about the Moon\n",
      " The Moon is Earth's only satellite\n",
      " There are several interesting facts about the Moon and how it affects life here on Earth\n",
      " \n",
      "On average, the Moon moves 4cm away from the Earth every year\n",
      " This yearly drift is not significant enough to cause immediate effects on Earth\n",
      " The highest daylight temperature of the Moon is 127 Celsius\n",
      "\n"
     ]
    }
   ],
   "source": [
    "#Dividir Texto\n",
    "#optenemos el texto en una cadena.\n",
    "texto=\"\"\"Interesting facts about the Moon. The Moon is Earth's only satellite. There are several interesting facts about the Moon and how it affects life here on Earth. \n",
    "On average, the Moon moves 4cm away from the Earth every year. This yearly drift is not significant enough to cause immediate effects on Earth. The highest daylight temperature of the Moon is 127 C.\"\"\"\n",
    "#En la variable  texto princiapal almacenamos el texto dividido en un vector nuestras palabras caves.\n",
    "text_principal=texto.split('.')\n",
    "#usaremos ciclo para recorrer la cadena y usamos un remplace \n",
    "for cont in text_principal:\n",
    "   if cont in text_principal:\n",
    "      print(cont.replace('C', 'Celsius')) "
   ]
  },
  {
   "cell_type": "markdown",
   "metadata": {},
   "source": [
    "#Ejercicio 2\n",
    "Primero, crea un título para el texto. Debido a que este texto trata sobre la gravedad en la Tierra y la Luna, úsalo para crear un título significativo. Utiliza las variables en lugar de escribir.\n",
    "Ahora crea una plantilla de cadena multilínea para contener el resto de la información. En lugar de usar kilómetros, debes convertir la distancia a metros multiplicando por 1,000.\n",
    "Finalmente, usa ambas variables para unir el título y los hechos.\n",
    "Ahora usa información de una luna diferente para ver si la plantilla todavía funciona.\n",
    "La salida no muestra información sobre Marte. Todavía muestra información sobre la Luna. Esto sucede porque las cadenas f están ansiosas en su evaluación, por lo que las variables una vez asignadas no se pueden reasignar. Para evitar este problema, vuelva a hacer la plantilla para utilizar .format():\n",
    "Debido a que .format() no permite expresiones, la gravedad en Ganímedes es incorrecta. Asegúrese de que la operación se realiza fuera de la plantilla de formato e imprima de nuevo para ver el resultado de trabajo."
   ]
  },
  {
   "cell_type": "code",
   "execution_count": 47,
   "metadata": {},
   "outputs": [
    {
     "name": "stdout",
     "output_type": "stream",
     "text": [
      "La Gravedad En La Moon Y Earth \n",
      "-------------------------------------------------------------------------------- \n",
      "Nombre del planeta: Earth \n",
      "Gravedad en Moon: 1.6199999999999999 m/s2 \n",
      " \n",
      "\n",
      "\n",
      "Datos de Gravedad sobre: Marte \n",
      "-------------------------------------------------------------------------------\n",
      "Nombre del planeta: Ganímedes\n",
      "Gravedad en Marte : 1.4300000000000002 m/s2\n",
      "\n"
     ]
    }
   ],
   "source": [
    "#variable de entorno \n",
    "snombre=\"Moon\"\n",
    "fgravedad=0.00162 #kms \n",
    "sPlaneta=\"Earth\"\n",
    "#titulo \n",
    "sTitulo='La Gravedad en la '+snombre+' y '+sPlaneta\n",
    "#cramos plantilla \n",
    "hechos = f\"\"\"{'-'*80} \n",
    "Nombre del planeta: {sPlaneta} \n",
    "Gravedad en {snombre}: {fgravedad * 1000} m/s2 \n",
    "\"\"\"\n",
    "#usamos una varible para unir el titulo y los hechos \n",
    "nombre_platilla = f\"\"\"{sTitulo.title()} \n",
    "{hechos} \n",
    "\"\"\" \n",
    "print(nombre_platilla)\n",
    "#Reasignamos valores  \n",
    "snombre=\"Marte \"\n",
    "fgravedad=0.00143 #kms \n",
    "sPlaneta=\"Ganímedes\"\n",
    "sTitulo='La Gravedad en la '+snombre+' y '+sPlaneta\n",
    "#creamos nueva plantilla \n",
    "nombre_platilla_new = \"\"\"\n",
    "Datos de Gravedad sobre: {snombre}\n",
    "-------------------------------------------------------------------------------\n",
    "Nombre del planeta: {sPlaneta}\n",
    "Gravedad en {snombre}: {fgravedad} m/s2\n",
    "\"\"\"\n",
    "#imprimimos nueva plantilla dando formato\n",
    "print(nombre_platilla_new.format(snombre=snombre, sPlaneta=sPlaneta, fgravedad=fgravedad*1000))\n"
   ]
  }
 ],
 "metadata": {
  "interpreter": {
   "hash": "0d7d35ff11fd67e735fbe33ebd35d28b0dc2b0d60033d623526155bd94afa7b2"
  },
  "kernelspec": {
   "display_name": "Python 3.9.2 64-bit",
   "language": "python",
   "name": "python3"
  },
  "language_info": {
   "codemirror_mode": {
    "name": "ipython",
    "version": 3
   },
   "file_extension": ".py",
   "mimetype": "text/x-python",
   "name": "python",
   "nbconvert_exporter": "python",
   "pygments_lexer": "ipython3",
   "version": "3.9.2"
  },
  "orig_nbformat": 4
 },
 "nbformat": 4,
 "nbformat_minor": 2
}
