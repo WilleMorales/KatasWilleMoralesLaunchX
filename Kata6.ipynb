{
 "cells": [
  {
   "cell_type": "markdown",
   "metadata": {},
   "source": [
    "#Ejercicio1: Crear y usar listas de Python"
   ]
  },
  {
   "cell_type": "code",
   "execution_count": 2,
   "metadata": {},
   "outputs": [
    {
     "name": "stdout",
     "output_type": "stream",
     "text": [
      "['Mercurio', 'Venus', 'Tierra', 'Jupiter', 'Saturno', 'Urano', 'Nectuno', 'Pluto']\n",
      "El ultimo planeta es: Pluto\n"
     ]
    }
   ],
   "source": [
    "#creamos una arreglo donde almacenemos 8 datos \n",
    "\n",
    "planets=['Mercurio','Venus','Tierra','Marte','Jupiter','Saturno','Urano','Nectuno']\n",
    "# Agregamos a plutón y mostramos el último elemento\n",
    "planets.append('Pluto')\n",
    "#print(planets)\n",
    "print(\"El ultimo planeta es:\",planets[-1])"
   ]
  },
  {
   "cell_type": "markdown",
   "metadata": {},
   "source": [
    "#Ejerccio 2 Trabajando con datos de una lista"
   ]
  },
  {
   "cell_type": "code",
   "execution_count": 27,
   "metadata": {},
   "outputs": [
    {
     "name": "stdout",
     "output_type": "stream",
     "text": [
      "El planeta Mercurio está en la posición 0 del Listado  del listado de  8 planetas\n",
      "El planeta mas Cercano al Sol es:  Mercurio\n",
      "El planeta mas Lejano al Sol es:  Nectuno\n"
     ]
    }
   ],
   "source": [
    "\n",
    "#creamos un arreglo con 8 planetas\n",
    "planets=['Mercurio','Venus','Tierra','Marte','Jupiter','Saturno','Urano','Nectuno']\n",
    "\n",
    "try:\n",
    "    #Declaramos el nombre del planeta a buscar\n",
    "    sNombrePlaneta = input('Introducir el nombre del planeta')\n",
    "    #buscaremos el planeta en nuestro arreglo\n",
    "    iIndicePlaneta=planets.index(sNombrePlaneta)\n",
    "    print(\"El planeta\",sNombrePlaneta,\"está en la posición {} del Listado\".format(iIndicePlaneta),\" del listado de \",len(planets),\"planetas\")\n",
    "\n",
    "except Exception as e:\n",
    "    print(\"Ha Ocurriodo un error \",e)\n",
    "\n",
    "#optenemos el planeta mas cercano al sol\n",
    "print(\"El planeta mas Cercano al Sol es: \",planets[0])\n",
    "#optenemos el planeta mas lejano al sol\n",
    "print(\"El planeta mas Lejano al Sol es: \",planets[7])\n"
   ]
  }
 ],
 "metadata": {
  "interpreter": {
   "hash": "0d7d35ff11fd67e735fbe33ebd35d28b0dc2b0d60033d623526155bd94afa7b2"
  },
  "kernelspec": {
   "display_name": "Python 3.9.2 64-bit",
   "language": "python",
   "name": "python3"
  },
  "language_info": {
   "codemirror_mode": {
    "name": "ipython",
    "version": 3
   },
   "file_extension": ".py",
   "mimetype": "text/x-python",
   "name": "python",
   "nbconvert_exporter": "python",
   "pygments_lexer": "ipython3",
   "version": "3.9.2"
  },
  "orig_nbformat": 4
 },
 "nbformat": 4,
 "nbformat_minor": 2
}
