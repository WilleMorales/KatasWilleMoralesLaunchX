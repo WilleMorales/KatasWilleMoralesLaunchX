{
 "cells": [
  {
   "cell_type": "markdown",
   "metadata": {},
   "source": [
    "#Ejercicio 1 Operadores Aritmeticos \n",
    "\n",
    "Exploremos cómo podemos crear un programa que pueda calcular la distancia entre dos planetas. Comenzaremos usando dos distancias de planetas: Tierra (149.597.870 km) y Júpiter (778.547.200 km)."
   ]
  },
  {
   "cell_type": "code",
   "execution_count": 7,
   "metadata": {},
   "outputs": [
    {
     "name": "stdout",
     "output_type": "stream",
     "text": [
      "La Distancia entre el primer planeta y el segundo planeta es de  628949330 km\n",
      "La Distancia entre el primer planeta y el segundo planeta es de  390577533.93 millas\n"
     ]
    }
   ],
   "source": [
    "# Crear variables calcular la distancia ente dos planetas\n",
    "iPrimerPlaneta = 149597870\n",
    "iSegundoPlaneta = 778547200\n",
    "# Calcular la distancia entre planetas\n",
    "\n",
    "distance_km =  iSegundoPlaneta-iPrimerPlaneta\n",
    "print(\"La Distancia entre el primer planeta y el segundo planeta es de \",distance_km,\"km\")\n",
    "\n",
    "fDistanciaMillas =  (distance_km * 0.621)\n",
    "print(\"La Distancia entre el primer planeta y el segundo planeta es de \",fDistanciaMillas,\"millas\")"
   ]
  },
  {
   "cell_type": "markdown",
   "metadata": {},
   "source": [
    "#Ejercicio 2\n",
    "\n",
    "Para crear nuestra aplicación, queremos leer la distancia del sol para dos planetas, y luego mostrar la distancia entre los planetas. Haremos esto usando input para leer los valores, int para convertir a entero y luego abs para convertir el resultado en su valor absoluto.\n"
   ]
  },
  {
   "cell_type": "code",
   "execution_count": 10,
   "metadata": {},
   "outputs": [
    {
     "name": "stdout",
     "output_type": "stream",
     "text": [
      "La Distancia entre el primer planeta y el segundo planeta es de  628949330 km\n",
      "La Distancia entre el primer planeta y el segundo planeta es de  390577533.93 millas\n"
     ]
    }
   ],
   "source": [
    "# Almacenar las entradas del usuario\n",
    "#Pista: variable = input(\"¿Cuál es tu nombre?\")\n",
    "\n",
    "iPrimerPlaneta = input('Introducir la distancia en Km del sol alprimer planeta')\n",
    "iSegundoPlaneta = input('Introducir la distancia en Km del sol alprimer planeta')\n",
    "# Convierte las cadenas de ambos planetas a números enteros\n",
    "iPrimerPlaneta=int(iPrimerPlaneta)\n",
    "iSegundoPlaneta=int(iSegundoPlaneta)\n",
    "# Realizar el cálculo y determinar el valor absoluto\n",
    "distance_km = iSegundoPlaneta - iPrimerPlaneta\n",
    "print(\"La Distancia entre el primer planeta y el segundo planeta es de \",distance_km,\"km\")\n",
    "\n",
    "# Convertir de KM a Millas\n",
    "fDistanciaMillas = distance_km * 0.621\n",
    "print(\"La Distancia entre el primer planeta y el segundo planeta es de \",abs(fDistanciaMillas),\"millas\")\n"
   ]
  }
 ],
 "metadata": {
  "interpreter": {
   "hash": "0d7d35ff11fd67e735fbe33ebd35d28b0dc2b0d60033d623526155bd94afa7b2"
  },
  "kernelspec": {
   "display_name": "Python 3.9.2 64-bit",
   "language": "python",
   "name": "python3"
  },
  "language_info": {
   "codemirror_mode": {
    "name": "ipython",
    "version": 3
   },
   "file_extension": ".py",
   "mimetype": "text/x-python",
   "name": "python",
   "nbconvert_exporter": "python",
   "pygments_lexer": "ipython3",
   "version": "3.9.2"
  },
  "orig_nbformat": 4
 },
 "nbformat": 4,
 "nbformat_minor": 2
}
