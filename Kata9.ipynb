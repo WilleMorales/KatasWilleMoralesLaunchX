{
 "cells": [
  {
   "cell_type": "markdown",
   "metadata": {},
   "source": [
    "#Ejercicio 1: Trabajar con argumentos en funcione"
   ]
  },
  {
   "cell_type": "code",
   "execution_count": 7,
   "metadata": {},
   "outputs": [
    {
     "name": "stdout",
     "output_type": "stream",
     "text": [
      "Reporte Total de tanques de Gasolina:\n",
      "    Total Promedio: 93.33333333333333 %\n",
      "    Primer Tanque: 100 %\n",
      "    Segundo Tanque: 90 %\n",
      "    Tercer Tanque: 90 % \n",
      "    \n",
      "50.0\n",
      "Reporte Total de tanques de Gasolina:\n",
      "   Total Average: 93.33333333333333%\n",
      "    Primer Tanque: 100 %\n",
      "    Segundo Tanque: 90 %\n",
      "    Tercer Tanque: 90 % \n",
      "    \n"
     ]
    }
   ],
   "source": [
    "# Función para leer 3 tanques de combustible y muestre el promedio\n",
    "def fntTanquePromedio(primerTanque, SegundoTanque, TercerTanque):\n",
    "    fTotalPromedio = (primerTanque + SegundoTanque + TercerTanque) / 3\n",
    "    return f\"\"\"Reporte Total de tanques de Gasolina:\n",
    "    Total Promedio: {fTotalPromedio} %\n",
    "    Primer Tanque: {primerTanque} %\n",
    "    Segundo Tanque: {SegundoTanque} %\n",
    "    Tercer Tanque: {TercerTanque} % \n",
    "    \"\"\"\n",
    "# Llamamos a la función que genera el reporte print(funcion(tanque1, tanque2, tanque3))\n",
    "print(fntTanquePromedio(100, 90, 90))\n",
    "# Función promedio \n",
    "def fntPromedio(values):\n",
    "    total = sum(values)\n",
    "    total_objetos = len(values)\n",
    "    return total / total_objetos\n",
    "# Actualiza la función \n",
    "print(fntPromedio([100, 20, 30]) )\n",
    "# Actualizamos la funcion  para leer 3 tanques de combustible y muestre el promedio\n",
    "def fntTanquePromedio(primerTanque, SegundoTanque, TercerTanque):\n",
    "    return f\"\"\"Reporte Total de tanques de Gasolina:\n",
    "   Total Average: {fntPromedio([primerTanque, SegundoTanque, TercerTanque])}%\n",
    "    Primer Tanque: {primerTanque} %\n",
    "    Segundo Tanque: {SegundoTanque} %\n",
    "    Tercer Tanque: {TercerTanque} % \n",
    "    \"\"\"\n",
    "# Llamamos a la función que genera el reporte print(funcion(tanque1, tanque2, tanque3))\n",
    "print(fntTanquePromedio(100, 90, 90))\n"
   ]
  },
  {
   "cell_type": "markdown",
   "metadata": {},
   "source": [
    "#Ejercicio 2: Trabajo con argumentos de palabra clave"
   ]
  },
  {
   "cell_type": "code",
   "execution_count": 8,
   "metadata": {},
   "outputs": [
    {
     "name": "stdout",
     "output_type": "stream",
     "text": [
      "\n",
      "    Mission to Moon\n",
      "    Total travel time: 65 minutes\n",
      "    Total fuel left: 500000 gallons\n",
      "    \n",
      "\n",
      "    Mission to Moon\n",
      "    Total travel time: 76 minutes\n",
      "    Total fuel left: 500000\n",
      "    \n",
      "\n",
      "    Mission to Moon\n",
      "    Total travel time: 74 minutes\n",
      "    Total fuel left: 500000\n",
      "    main tank --> 300000 gallons left\n",
      "external tank --> 200000 gallons left\n",
      "\n"
     ]
    }
   ],
   "source": [
    "# Función con un informe preciso de la misión. Considera hora de prelanzamiento, tiempo de vuelo, destino, tanque externo y tanque interno\n",
    "def mission_report(pre_launch_time, flight_time, destination, external_tank, main_tank):\n",
    "    return f\"\"\"\n",
    "    Mission to {destination}\n",
    "    Total travel time: {pre_launch_time + flight_time} minutes\n",
    "    Total fuel left: {external_tank + main_tank} gallons\n",
    "    \"\"\"\n",
    "\n",
    "print(mission_report(14, 51, \"Moon\", 200000, 300000))\n",
    "# Escribe tu nueva función de reporte considerando lo anterior\n",
    "def mission_report(destination, *minutes, **fuel_reservoirs):\n",
    "    return f\"\"\"\n",
    "    Mission to {destination}\n",
    "    Total travel time: {sum(minutes)} minutes\n",
    "    Total fuel left: {sum(fuel_reservoirs.values())}\n",
    "    \"\"\"\n",
    "\n",
    "print(mission_report(\"Moon\", 10, 15, 51, main=300000, external=200000))\n",
    "# Escribe tu nueva función\n",
    "def mission_report(destination, *minutes, **fuel_reservoirs):\n",
    "    main_report = f\"\"\"\n",
    "    Mission to {destination}\n",
    "    Total travel time: {sum(minutes)} minutes\n",
    "    Total fuel left: {sum(fuel_reservoirs.values())}\n",
    "    \"\"\"\n",
    "    for tank_name, gallons in fuel_reservoirs.items():\n",
    "        main_report += f\"{tank_name} tank --> {gallons} gallons left\\n\"\n",
    "    return main_report\n",
    "\n",
    "print(mission_report(\"Moon\", 8, 11, 55, main=300000, external=200000))"
   ]
  }
 ],
 "metadata": {
  "interpreter": {
   "hash": "0d7d35ff11fd67e735fbe33ebd35d28b0dc2b0d60033d623526155bd94afa7b2"
  },
  "kernelspec": {
   "display_name": "Python 3.9.2 64-bit",
   "language": "python",
   "name": "python3"
  },
  "language_info": {
   "name": "python",
   "version": "3.9.2"
  },
  "orig_nbformat": 4
 },
 "nbformat": 4,
 "nbformat_minor": 2
}
